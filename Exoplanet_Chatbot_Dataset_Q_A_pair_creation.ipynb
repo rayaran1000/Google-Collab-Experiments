{
  "cells": [
    {
      "cell_type": "code",
      "execution_count": 1,
      "metadata": {
        "colab": {
          "base_uri": "https://localhost:8080/"
        },
        "id": "E1X0GldTOeLt",
        "outputId": "144cc43f-dead-437e-97c8-a8025cbef14a"
      },
      "outputs": [
        {
          "name": "stdout",
          "output_type": "stream",
          "text": [
            "Mon Jun 10 17:32:07 2024       \n",
            "+-----------------------------------------------------------------------------------------+\n",
            "| NVIDIA-SMI 555.99                 Driver Version: 555.99         CUDA Version: 12.5     |\n",
            "|-----------------------------------------+------------------------+----------------------+\n",
            "| GPU  Name                  Driver-Model | Bus-Id          Disp.A | Volatile Uncorr. ECC |\n",
            "| Fan  Temp   Perf          Pwr:Usage/Cap |           Memory-Usage | GPU-Util  Compute M. |\n",
            "|                                         |                        |               MIG M. |\n",
            "|=========================================+========================+======================|\n",
            "|   0  NVIDIA GeForce RTX 3060 ...  WDDM  |   00000000:01:00.0  On |                  N/A |\n",
            "| N/A   50C    P5             16W /   25W |     823MiB /   6144MiB |      0%      Default |\n",
            "|                                         |                        |                  N/A |\n",
            "+-----------------------------------------+------------------------+----------------------+\n",
            "                                                                                         \n",
            "+-----------------------------------------------------------------------------------------+\n",
            "| Processes:                                                                              |\n",
            "|  GPU   GI   CI        PID   Type   Process name                              GPU Memory |\n",
            "|        ID   ID                                                               Usage      |\n",
            "|=========================================================================================|\n",
            "|    0   N/A  N/A      1248    C+G   ...App\\OmenCommandCenterBackground.exe      N/A      |\n",
            "|    0   N/A  N/A      3244    C+G   ...CBS_cw5n1h2txyewy\\TextInputHost.exe      N/A      |\n",
            "|    0   N/A  N/A      3612    C+G   ...2txyewy\\StartMenuExperienceHost.exe      N/A      |\n",
            "|    0   N/A  N/A      4924    C+G   ...nt.CBS_cw5n1h2txyewy\\SearchHost.exe      N/A      |\n",
            "|    0   N/A  N/A      5512    C+G   ...oogle\\Chrome\\Application\\chrome.exe      N/A      |\n",
            "|    0   N/A  N/A      5748    C+G   ...erApp\\HP.Omen.OmenCommandCenter.exe      N/A      |\n",
            "|    0   N/A  N/A      6308    C+G   ...Programs\\Microsoft VS Code\\Code.exe      N/A      |\n",
            "|    0   N/A  N/A      7472    C+G   ...ta\\Local\\Programs\\Notion\\Notion.exe      N/A      |\n",
            "|    0   N/A  N/A     10080    C+G   ...tudio-ui\\LightStudio-background.exe      N/A      |\n",
            "|    0   N/A  N/A     10088    C+G   ...__8wekyb3d8bbwe\\WindowsTerminal.exe      N/A      |\n",
            "|    0   N/A  N/A     11820    C+G   ...ekyb3d8bbwe\\PhoneExperienceHost.exe      N/A      |\n",
            "|    0   N/A  N/A     13444    C+G   ...41.0_x64__v10z8vjag6ke6\\HP.myHP.exe      N/A      |\n",
            "|    0   N/A  N/A     16400    C+G   ...ck Heal Total Security\\onlinent.exe      N/A      |\n",
            "|    0   N/A  N/A     18404    C+G   ...5n1h2txyewy\\ShellExperienceHost.exe      N/A      |\n",
            "|    0   N/A  N/A     19932    C+G   ...siveControlPanel\\SystemSettings.exe      N/A      |\n",
            "|    0   N/A  N/A     21036    C+G   ...oogle\\Chrome\\Application\\chrome.exe      N/A      |\n",
            "|    0   N/A  N/A     21288    C+G   ...t.LockApp_cw5n1h2txyewy\\LockApp.exe      N/A      |\n",
            "|    0   N/A  N/A     22424    C+G   ...paper_engine\\bin\\webwallpaper32.exe      N/A      |\n",
            "|    0   N/A  N/A     23144    C+G   C:\\Windows\\explorer.exe                     N/A      |\n",
            "+-----------------------------------------------------------------------------------------+\n"
          ]
        }
      ],
      "source": [
        "!nvidia-smi"
      ]
    },
    {
      "cell_type": "code",
      "execution_count": 2,
      "metadata": {
        "id": "DtuVH3PkP3JV"
      },
      "outputs": [],
      "source": [
        "import os\n",
        "import numpy as np\n",
        "import pandas as pd\n",
        "import matplotlib.pyplot as plt\n",
        "import keras\n",
        "import tensorflow as tf"
      ]
    },
    {
      "cell_type": "code",
      "execution_count": 3,
      "metadata": {},
      "outputs": [
        {
          "data": {
            "text/plain": [
              "'e:\\\\Projects for portfolio\\\\Exoplanet Chatbot\\\\research'"
            ]
          },
          "execution_count": 3,
          "metadata": {},
          "output_type": "execute_result"
        }
      ],
      "source": [
        "%pwd"
      ]
    },
    {
      "cell_type": "code",
      "execution_count": 4,
      "metadata": {},
      "outputs": [],
      "source": [
        "os.chdir(\"../\") "
      ]
    },
    {
      "cell_type": "code",
      "execution_count": 5,
      "metadata": {},
      "outputs": [
        {
          "data": {
            "text/plain": [
              "'e:\\\\Projects for portfolio\\\\Exoplanet Chatbot'"
            ]
          },
          "execution_count": 5,
          "metadata": {},
          "output_type": "execute_result"
        }
      ],
      "source": [
        "%pwd"
      ]
    },
    {
      "cell_type": "code",
      "execution_count": 6,
      "metadata": {
        "colab": {
          "base_uri": "https://localhost:8080/",
          "height": 464
        },
        "id": "IIesKaRNRODx",
        "outputId": "6b5a3efa-1ce1-42de-93ee-21129b5ec947"
      },
      "outputs": [
        {
          "data": {
            "text/html": [
              "<div>\n",
              "<style scoped>\n",
              "    .dataframe tbody tr th:only-of-type {\n",
              "        vertical-align: middle;\n",
              "    }\n",
              "\n",
              "    .dataframe tbody tr th {\n",
              "        vertical-align: top;\n",
              "    }\n",
              "\n",
              "    .dataframe thead th {\n",
              "        text-align: right;\n",
              "    }\n",
              "</style>\n",
              "<table border=\"1\" class=\"dataframe\">\n",
              "  <thead>\n",
              "    <tr style=\"text-align: right;\">\n",
              "      <th></th>\n",
              "      <th>Planet Name</th>\n",
              "      <th>Host Name</th>\n",
              "      <th>Planet letter</th>\n",
              "      <th>HD ID</th>\n",
              "      <th>HIP ID</th>\n",
              "      <th>TIC ID</th>\n",
              "      <th>GAIA ID</th>\n",
              "      <th>Number of Stars</th>\n",
              "      <th>Number of Planets</th>\n",
              "      <th>Number of Moons</th>\n",
              "      <th>...</th>\n",
              "      <th>sy_tmag</th>\n",
              "      <th>sy_tmag_reflink</th>\n",
              "      <th>sy_kepmag</th>\n",
              "      <th>sy_kepmag_reflink</th>\n",
              "      <th>pl_nnotes</th>\n",
              "      <th>st_nphot</th>\n",
              "      <th>st_nrvc</th>\n",
              "      <th>st_nspec</th>\n",
              "      <th>pl_nespec</th>\n",
              "      <th>pl_ntranspec</th>\n",
              "    </tr>\n",
              "  </thead>\n",
              "  <tbody>\n",
              "    <tr>\n",
              "      <th>0</th>\n",
              "      <td>11 Com b</td>\n",
              "      <td>11 Com</td>\n",
              "      <td>b</td>\n",
              "      <td>HD 107383</td>\n",
              "      <td>HIP 60202</td>\n",
              "      <td>TIC 72437047</td>\n",
              "      <td>Gaia DR2 3946945413106333696</td>\n",
              "      <td>2</td>\n",
              "      <td>1</td>\n",
              "      <td>0</td>\n",
              "      <td>...</td>\n",
              "      <td>3.83790</td>\n",
              "      <td>&lt;a refstr=STASSUN_ET_AL__2019 href=https://ui....</td>\n",
              "      <td>NaN</td>\n",
              "      <td>&lt;a refstr=STASSUN_ET_AL__2019 href=https://ui....</td>\n",
              "      <td>2.0</td>\n",
              "      <td>1</td>\n",
              "      <td>2</td>\n",
              "      <td>0</td>\n",
              "      <td>0</td>\n",
              "      <td>0</td>\n",
              "    </tr>\n",
              "    <tr>\n",
              "      <th>1</th>\n",
              "      <td>11 UMi b</td>\n",
              "      <td>11 UMi</td>\n",
              "      <td>b</td>\n",
              "      <td>HD 136726</td>\n",
              "      <td>HIP 74793</td>\n",
              "      <td>TIC 230061010</td>\n",
              "      <td>Gaia DR2 1696798367260229376</td>\n",
              "      <td>1</td>\n",
              "      <td>1</td>\n",
              "      <td>0</td>\n",
              "      <td>...</td>\n",
              "      <td>3.82294</td>\n",
              "      <td>&lt;a refstr=STASSUN_ET_AL__2019 href=https://ui....</td>\n",
              "      <td>NaN</td>\n",
              "      <td>&lt;a refstr=STASSUN_ET_AL__2019 href=https://ui....</td>\n",
              "      <td>0.0</td>\n",
              "      <td>1</td>\n",
              "      <td>1</td>\n",
              "      <td>0</td>\n",
              "      <td>0</td>\n",
              "      <td>0</td>\n",
              "    </tr>\n",
              "    <tr>\n",
              "      <th>2</th>\n",
              "      <td>14 And b</td>\n",
              "      <td>14 And</td>\n",
              "      <td>b</td>\n",
              "      <td>HD 221345</td>\n",
              "      <td>HIP 116076</td>\n",
              "      <td>TIC 333225860</td>\n",
              "      <td>Gaia DR2 1920113512486282240</td>\n",
              "      <td>1</td>\n",
              "      <td>1</td>\n",
              "      <td>0</td>\n",
              "      <td>...</td>\n",
              "      <td>4.32140</td>\n",
              "      <td>&lt;a refstr=STASSUN_ET_AL__2019 href=https://ui....</td>\n",
              "      <td>NaN</td>\n",
              "      <td>&lt;a refstr=STASSUN_ET_AL__2019 href=https://ui....</td>\n",
              "      <td>0.0</td>\n",
              "      <td>1</td>\n",
              "      <td>1</td>\n",
              "      <td>0</td>\n",
              "      <td>0</td>\n",
              "      <td>0</td>\n",
              "    </tr>\n",
              "    <tr>\n",
              "      <th>3</th>\n",
              "      <td>14 Her b</td>\n",
              "      <td>14 Her</td>\n",
              "      <td>b</td>\n",
              "      <td>HD 145675</td>\n",
              "      <td>HIP 79248</td>\n",
              "      <td>TIC 219483057</td>\n",
              "      <td>Gaia DR2 1385293808145621504</td>\n",
              "      <td>1</td>\n",
              "      <td>2</td>\n",
              "      <td>0</td>\n",
              "      <td>...</td>\n",
              "      <td>5.86310</td>\n",
              "      <td>&lt;a refstr=STASSUN_ET_AL__2019 href=https://ui....</td>\n",
              "      <td>NaN</td>\n",
              "      <td>&lt;a refstr=STASSUN_ET_AL__2019 href=https://ui....</td>\n",
              "      <td>0.0</td>\n",
              "      <td>1</td>\n",
              "      <td>4</td>\n",
              "      <td>1</td>\n",
              "      <td>0</td>\n",
              "      <td>0</td>\n",
              "    </tr>\n",
              "    <tr>\n",
              "      <th>4</th>\n",
              "      <td>16 Cyg B b</td>\n",
              "      <td>16 Cyg B</td>\n",
              "      <td>b</td>\n",
              "      <td>HD 186427</td>\n",
              "      <td>HIP 96901</td>\n",
              "      <td>TIC 27533327</td>\n",
              "      <td>Gaia DR2 2135550755683407232</td>\n",
              "      <td>3</td>\n",
              "      <td>1</td>\n",
              "      <td>0</td>\n",
              "      <td>...</td>\n",
              "      <td>5.62810</td>\n",
              "      <td>&lt;a refstr=STASSUN_ET_AL__2019 href=https://ui....</td>\n",
              "      <td>6.095</td>\n",
              "      <td>&lt;a refstr=STASSUN_ET_AL__2019 href=https://ui....</td>\n",
              "      <td>5.0</td>\n",
              "      <td>1</td>\n",
              "      <td>4</td>\n",
              "      <td>3</td>\n",
              "      <td>0</td>\n",
              "      <td>0</td>\n",
              "    </tr>\n",
              "  </tbody>\n",
              "</table>\n",
              "<p>5 rows × 148 columns</p>\n",
              "</div>"
            ],
            "text/plain": [
              "  Planet Name Host Name Planet letter      HD ID      HIP ID         TIC ID  \\\n",
              "0    11 Com b    11 Com             b  HD 107383   HIP 60202   TIC 72437047   \n",
              "1    11 UMi b    11 UMi             b  HD 136726   HIP 74793  TIC 230061010   \n",
              "2    14 And b    14 And             b  HD 221345  HIP 116076  TIC 333225860   \n",
              "3    14 Her b    14 Her             b  HD 145675   HIP 79248  TIC 219483057   \n",
              "4  16 Cyg B b  16 Cyg B             b  HD 186427   HIP 96901   TIC 27533327   \n",
              "\n",
              "                        GAIA ID  Number of Stars  Number of Planets  \\\n",
              "0  Gaia DR2 3946945413106333696                2                  1   \n",
              "1  Gaia DR2 1696798367260229376                1                  1   \n",
              "2  Gaia DR2 1920113512486282240                1                  1   \n",
              "3  Gaia DR2 1385293808145621504                1                  2   \n",
              "4  Gaia DR2 2135550755683407232                3                  1   \n",
              "\n",
              "   Number of Moons  ...  sy_tmag  \\\n",
              "0                0  ...  3.83790   \n",
              "1                0  ...  3.82294   \n",
              "2                0  ...  4.32140   \n",
              "3                0  ...  5.86310   \n",
              "4                0  ...  5.62810   \n",
              "\n",
              "                                     sy_tmag_reflink  sy_kepmag  \\\n",
              "0  <a refstr=STASSUN_ET_AL__2019 href=https://ui....        NaN   \n",
              "1  <a refstr=STASSUN_ET_AL__2019 href=https://ui....        NaN   \n",
              "2  <a refstr=STASSUN_ET_AL__2019 href=https://ui....        NaN   \n",
              "3  <a refstr=STASSUN_ET_AL__2019 href=https://ui....        NaN   \n",
              "4  <a refstr=STASSUN_ET_AL__2019 href=https://ui....      6.095   \n",
              "\n",
              "                                   sy_kepmag_reflink pl_nnotes st_nphot  \\\n",
              "0  <a refstr=STASSUN_ET_AL__2019 href=https://ui....       2.0        1   \n",
              "1  <a refstr=STASSUN_ET_AL__2019 href=https://ui....       0.0        1   \n",
              "2  <a refstr=STASSUN_ET_AL__2019 href=https://ui....       0.0        1   \n",
              "3  <a refstr=STASSUN_ET_AL__2019 href=https://ui....       0.0        1   \n",
              "4  <a refstr=STASSUN_ET_AL__2019 href=https://ui....       5.0        1   \n",
              "\n",
              "  st_nrvc st_nspec pl_nespec  pl_ntranspec  \n",
              "0       2        0         0             0  \n",
              "1       1        0         0             0  \n",
              "2       1        0         0             0  \n",
              "3       4        1         0             0  \n",
              "4       4        3         0             0  \n",
              "\n",
              "[5 rows x 148 columns]"
            ]
          },
          "execution_count": 6,
          "metadata": {},
          "output_type": "execute_result"
        }
      ],
      "source": [
        "# Raw data file\n",
        "df = pd.read_csv('artifacts\\\\Exoplanet Data.csv')\n",
        "df.head()"
      ]
    },
    {
      "cell_type": "markdown",
      "metadata": {},
      "source": [
        "## Feature Selection"
      ]
    },
    {
      "cell_type": "code",
      "execution_count": 7,
      "metadata": {
        "id": "Mhh3mVivRdL1"
      },
      "outputs": [],
      "source": [
        "columns_to_include = ['Planet Name','Host Name','Number of Stars','Number of Planets','Number of Moons','Circumbinary Flag','Discovery Method', 'Discovery Year',\n",
        "       'Discovery Publication Date','Discovery Facilty','Discovery Telescope','Planet Radius [Earth Radius]','Planet Mass [Earth Mass]','Planet Density [g/cm**3]','Equilibrium Temperature [K]','Orbit Semi-Major Axis [au]','Radial Velocity Amplitude [m/s]','Stellar Effective Temperature [K]','Stellar Radius [Solar Radius]','Stellar Mass [Solar mass]']"
      ]
    },
    {
      "cell_type": "code",
      "execution_count": 8,
      "metadata": {
        "colab": {
          "base_uri": "https://localhost:8080/",
          "height": 469
        },
        "id": "S77KS0B4VE9X",
        "outputId": "8d27c00a-fdea-450b-b904-14935649c402"
      },
      "outputs": [
        {
          "data": {
            "text/html": [
              "<div>\n",
              "<style scoped>\n",
              "    .dataframe tbody tr th:only-of-type {\n",
              "        vertical-align: middle;\n",
              "    }\n",
              "\n",
              "    .dataframe tbody tr th {\n",
              "        vertical-align: top;\n",
              "    }\n",
              "\n",
              "    .dataframe thead th {\n",
              "        text-align: right;\n",
              "    }\n",
              "</style>\n",
              "<table border=\"1\" class=\"dataframe\">\n",
              "  <thead>\n",
              "    <tr style=\"text-align: right;\">\n",
              "      <th></th>\n",
              "      <th>Planet Name</th>\n",
              "      <th>Host Name</th>\n",
              "      <th>Number of Stars</th>\n",
              "      <th>Number of Planets</th>\n",
              "      <th>Number of Moons</th>\n",
              "      <th>Circumbinary Flag</th>\n",
              "      <th>Discovery Method</th>\n",
              "      <th>Discovery Year</th>\n",
              "      <th>Discovery Publication Date</th>\n",
              "      <th>Discovery Facilty</th>\n",
              "      <th>Discovery Telescope</th>\n",
              "      <th>Planet Radius [Earth Radius]</th>\n",
              "      <th>Planet Mass [Earth Mass]</th>\n",
              "      <th>Planet Density [g/cm**3]</th>\n",
              "      <th>Equilibrium Temperature [K]</th>\n",
              "      <th>Orbit Semi-Major Axis [au]</th>\n",
              "      <th>Radial Velocity Amplitude [m/s]</th>\n",
              "      <th>Stellar Effective Temperature [K]</th>\n",
              "      <th>Stellar Radius [Solar Radius]</th>\n",
              "      <th>Stellar Mass [Solar mass]</th>\n",
              "    </tr>\n",
              "  </thead>\n",
              "  <tbody>\n",
              "    <tr>\n",
              "      <th>0</th>\n",
              "      <td>11 Com b</td>\n",
              "      <td>11 Com</td>\n",
              "      <td>2</td>\n",
              "      <td>1</td>\n",
              "      <td>0</td>\n",
              "      <td>0</td>\n",
              "      <td>Radial Velocity</td>\n",
              "      <td>2007</td>\n",
              "      <td>2008-01</td>\n",
              "      <td>Xinglong Station</td>\n",
              "      <td>2.16 m Telescope</td>\n",
              "      <td>12.2</td>\n",
              "      <td>4914.89849</td>\n",
              "      <td>14.90</td>\n",
              "      <td>NaN</td>\n",
              "      <td>1.178</td>\n",
              "      <td>288.630</td>\n",
              "      <td>4874.0</td>\n",
              "      <td>13.76</td>\n",
              "      <td>2.09</td>\n",
              "    </tr>\n",
              "    <tr>\n",
              "      <th>1</th>\n",
              "      <td>11 UMi b</td>\n",
              "      <td>11 UMi</td>\n",
              "      <td>1</td>\n",
              "      <td>1</td>\n",
              "      <td>0</td>\n",
              "      <td>0</td>\n",
              "      <td>Radial Velocity</td>\n",
              "      <td>2009</td>\n",
              "      <td>2009-10</td>\n",
              "      <td>Thueringer Landessternwarte Tautenburg</td>\n",
              "      <td>2.0 m Alfred Jensch Telescope</td>\n",
              "      <td>12.3</td>\n",
              "      <td>4684.81420</td>\n",
              "      <td>13.80</td>\n",
              "      <td>NaN</td>\n",
              "      <td>1.530</td>\n",
              "      <td>189.700</td>\n",
              "      <td>4213.0</td>\n",
              "      <td>29.79</td>\n",
              "      <td>2.78</td>\n",
              "    </tr>\n",
              "    <tr>\n",
              "      <th>2</th>\n",
              "      <td>14 And b</td>\n",
              "      <td>14 And</td>\n",
              "      <td>1</td>\n",
              "      <td>1</td>\n",
              "      <td>0</td>\n",
              "      <td>0</td>\n",
              "      <td>Radial Velocity</td>\n",
              "      <td>2008</td>\n",
              "      <td>2008-12</td>\n",
              "      <td>Okayama Astrophysical Observatory</td>\n",
              "      <td>1.88 m Telescope</td>\n",
              "      <td>13.1</td>\n",
              "      <td>1131.15130</td>\n",
              "      <td>2.76</td>\n",
              "      <td>NaN</td>\n",
              "      <td>0.775</td>\n",
              "      <td>86.080</td>\n",
              "      <td>4888.0</td>\n",
              "      <td>11.55</td>\n",
              "      <td>1.78</td>\n",
              "    </tr>\n",
              "    <tr>\n",
              "      <th>3</th>\n",
              "      <td>14 Her b</td>\n",
              "      <td>14 Her</td>\n",
              "      <td>1</td>\n",
              "      <td>2</td>\n",
              "      <td>0</td>\n",
              "      <td>0</td>\n",
              "      <td>Radial Velocity</td>\n",
              "      <td>2002</td>\n",
              "      <td>2003-01</td>\n",
              "      <td>W. M. Keck Observatory</td>\n",
              "      <td>10 m Keck I Telescope</td>\n",
              "      <td>12.6</td>\n",
              "      <td>2559.47216</td>\n",
              "      <td>7.03</td>\n",
              "      <td>NaN</td>\n",
              "      <td>2.774</td>\n",
              "      <td>89.582</td>\n",
              "      <td>5338.0</td>\n",
              "      <td>0.93</td>\n",
              "      <td>0.91</td>\n",
              "    </tr>\n",
              "    <tr>\n",
              "      <th>4</th>\n",
              "      <td>16 Cyg B b</td>\n",
              "      <td>16 Cyg B</td>\n",
              "      <td>3</td>\n",
              "      <td>1</td>\n",
              "      <td>0</td>\n",
              "      <td>0</td>\n",
              "      <td>Radial Velocity</td>\n",
              "      <td>1996</td>\n",
              "      <td>1997-07</td>\n",
              "      <td>Multiple Observatories</td>\n",
              "      <td>Multiple Telescopes</td>\n",
              "      <td>13.5</td>\n",
              "      <td>565.73740</td>\n",
              "      <td>1.26</td>\n",
              "      <td>NaN</td>\n",
              "      <td>1.660</td>\n",
              "      <td>50.500</td>\n",
              "      <td>5750.0</td>\n",
              "      <td>1.13</td>\n",
              "      <td>1.08</td>\n",
              "    </tr>\n",
              "  </tbody>\n",
              "</table>\n",
              "</div>"
            ],
            "text/plain": [
              "  Planet Name Host Name  Number of Stars  Number of Planets  Number of Moons  \\\n",
              "0    11 Com b    11 Com                2                  1                0   \n",
              "1    11 UMi b    11 UMi                1                  1                0   \n",
              "2    14 And b    14 And                1                  1                0   \n",
              "3    14 Her b    14 Her                1                  2                0   \n",
              "4  16 Cyg B b  16 Cyg B                3                  1                0   \n",
              "\n",
              "   Circumbinary Flag Discovery Method  Discovery Year  \\\n",
              "0                  0  Radial Velocity            2007   \n",
              "1                  0  Radial Velocity            2009   \n",
              "2                  0  Radial Velocity            2008   \n",
              "3                  0  Radial Velocity            2002   \n",
              "4                  0  Radial Velocity            1996   \n",
              "\n",
              "  Discovery Publication Date                       Discovery Facilty  \\\n",
              "0                    2008-01                        Xinglong Station   \n",
              "1                    2009-10  Thueringer Landessternwarte Tautenburg   \n",
              "2                    2008-12       Okayama Astrophysical Observatory   \n",
              "3                    2003-01                  W. M. Keck Observatory   \n",
              "4                    1997-07                  Multiple Observatories   \n",
              "\n",
              "             Discovery Telescope  Planet Radius [Earth Radius]  \\\n",
              "0               2.16 m Telescope                          12.2   \n",
              "1  2.0 m Alfred Jensch Telescope                          12.3   \n",
              "2               1.88 m Telescope                          13.1   \n",
              "3          10 m Keck I Telescope                          12.6   \n",
              "4            Multiple Telescopes                          13.5   \n",
              "\n",
              "   Planet Mass [Earth Mass]  Planet Density [g/cm**3]  \\\n",
              "0                4914.89849                     14.90   \n",
              "1                4684.81420                     13.80   \n",
              "2                1131.15130                      2.76   \n",
              "3                2559.47216                      7.03   \n",
              "4                 565.73740                      1.26   \n",
              "\n",
              "   Equilibrium Temperature [K]  Orbit Semi-Major Axis [au]  \\\n",
              "0                          NaN                       1.178   \n",
              "1                          NaN                       1.530   \n",
              "2                          NaN                       0.775   \n",
              "3                          NaN                       2.774   \n",
              "4                          NaN                       1.660   \n",
              "\n",
              "   Radial Velocity Amplitude [m/s]  Stellar Effective Temperature [K]  \\\n",
              "0                          288.630                             4874.0   \n",
              "1                          189.700                             4213.0   \n",
              "2                           86.080                             4888.0   \n",
              "3                           89.582                             5338.0   \n",
              "4                           50.500                             5750.0   \n",
              "\n",
              "   Stellar Radius [Solar Radius]  Stellar Mass [Solar mass]  \n",
              "0                          13.76                       2.09  \n",
              "1                          29.79                       2.78  \n",
              "2                          11.55                       1.78  \n",
              "3                           0.93                       0.91  \n",
              "4                           1.13                       1.08  "
            ]
          },
          "execution_count": 8,
          "metadata": {},
          "output_type": "execute_result"
        }
      ],
      "source": [
        "df_final = df[columns_to_include]\n",
        "df_final.head()"
      ]
    },
    {
      "cell_type": "markdown",
      "metadata": {},
      "source": [
        "## Handling Missing Values"
      ]
    },
    {
      "cell_type": "code",
      "execution_count": 9,
      "metadata": {
        "colab": {
          "base_uri": "https://localhost:8080/"
        },
        "id": "f0rGR_MpVPmi",
        "outputId": "6d92403e-924a-4cb2-9982-768511f22bd2"
      },
      "outputs": [
        {
          "data": {
            "text/plain": [
              "Planet Name                             0\n",
              "Host Name                               0\n",
              "Number of Stars                         0\n",
              "Number of Planets                       0\n",
              "Number of Moons                         0\n",
              "Circumbinary Flag                       0\n",
              "Discovery Method                        0\n",
              "Discovery Year                          0\n",
              "Discovery Publication Date              0\n",
              "Discovery Facilty                       0\n",
              "Discovery Telescope                     0\n",
              "Planet Radius [Earth Radius]           21\n",
              "Planet Mass [Earth Mass]               23\n",
              "Planet Density [g/cm**3]              112\n",
              "Equilibrium Temperature [K]          1472\n",
              "Orbit Semi-Major Axis [au]            288\n",
              "Radial Velocity Amplitude [m/s]      3518\n",
              "Stellar Effective Temperature [K]     231\n",
              "Stellar Radius [Solar Radius]         253\n",
              "Stellar Mass [Solar mass]               7\n",
              "dtype: int64"
            ]
          },
          "execution_count": 9,
          "metadata": {},
          "output_type": "execute_result"
        }
      ],
      "source": [
        "df_final.isnull().sum()"
      ]
    },
    {
      "cell_type": "code",
      "execution_count": 10,
      "metadata": {
        "colab": {
          "base_uri": "https://localhost:8080/"
        },
        "id": "2g5IF7KvVfnc",
        "outputId": "527b7acf-2379-4f8b-cc26-7370f7b3d79c"
      },
      "outputs": [
        {
          "name": "stderr",
          "output_type": "stream",
          "text": [
            "C:\\Users\\arany\\AppData\\Local\\Temp\\ipykernel_16348\\3067571076.py:2: SettingWithCopyWarning: \n",
            "A value is trying to be set on a copy of a slice from a DataFrame\n",
            "\n",
            "See the caveats in the documentation: https://pandas.pydata.org/pandas-docs/stable/user_guide/indexing.html#returning-a-view-versus-a-copy\n",
            "  df_final.fillna(\"Not found Yet!!\",inplace=True)\n"
          ]
        }
      ],
      "source": [
        "# Filling the null values\n",
        "df_final.fillna(\"Not found Yet!!\",inplace=True)"
      ]
    },
    {
      "cell_type": "code",
      "execution_count": 11,
      "metadata": {
        "colab": {
          "base_uri": "https://localhost:8080/"
        },
        "id": "W1ZsPQWZV5kH",
        "outputId": "2d2a5355-b815-436e-8a62-455f8c6d582d"
      },
      "outputs": [
        {
          "data": {
            "text/plain": [
              "Planet Name                          0\n",
              "Host Name                            0\n",
              "Number of Stars                      0\n",
              "Number of Planets                    0\n",
              "Number of Moons                      0\n",
              "Circumbinary Flag                    0\n",
              "Discovery Method                     0\n",
              "Discovery Year                       0\n",
              "Discovery Publication Date           0\n",
              "Discovery Facilty                    0\n",
              "Discovery Telescope                  0\n",
              "Planet Radius [Earth Radius]         0\n",
              "Planet Mass [Earth Mass]             0\n",
              "Planet Density [g/cm**3]             0\n",
              "Equilibrium Temperature [K]          0\n",
              "Orbit Semi-Major Axis [au]           0\n",
              "Radial Velocity Amplitude [m/s]      0\n",
              "Stellar Effective Temperature [K]    0\n",
              "Stellar Radius [Solar Radius]        0\n",
              "Stellar Mass [Solar mass]            0\n",
              "dtype: int64"
            ]
          },
          "execution_count": 11,
          "metadata": {},
          "output_type": "execute_result"
        }
      ],
      "source": [
        "df_final.isnull().sum()"
      ]
    },
    {
      "cell_type": "code",
      "execution_count": 12,
      "metadata": {
        "colab": {
          "base_uri": "https://localhost:8080/",
          "height": 469
        },
        "id": "r4vSZpanWQc3",
        "outputId": "7eece621-b721-4026-db07-b09ed499d89e"
      },
      "outputs": [
        {
          "data": {
            "text/html": [
              "<div>\n",
              "<style scoped>\n",
              "    .dataframe tbody tr th:only-of-type {\n",
              "        vertical-align: middle;\n",
              "    }\n",
              "\n",
              "    .dataframe tbody tr th {\n",
              "        vertical-align: top;\n",
              "    }\n",
              "\n",
              "    .dataframe thead th {\n",
              "        text-align: right;\n",
              "    }\n",
              "</style>\n",
              "<table border=\"1\" class=\"dataframe\">\n",
              "  <thead>\n",
              "    <tr style=\"text-align: right;\">\n",
              "      <th></th>\n",
              "      <th>Planet Name</th>\n",
              "      <th>Host Name</th>\n",
              "      <th>Number of Stars</th>\n",
              "      <th>Number of Planets</th>\n",
              "      <th>Number of Moons</th>\n",
              "      <th>Circumbinary Flag</th>\n",
              "      <th>Discovery Method</th>\n",
              "      <th>Discovery Year</th>\n",
              "      <th>Discovery Publication Date</th>\n",
              "      <th>Discovery Facilty</th>\n",
              "      <th>Discovery Telescope</th>\n",
              "      <th>Planet Radius [Earth Radius]</th>\n",
              "      <th>Planet Mass [Earth Mass]</th>\n",
              "      <th>Planet Density [g/cm**3]</th>\n",
              "      <th>Equilibrium Temperature [K]</th>\n",
              "      <th>Orbit Semi-Major Axis [au]</th>\n",
              "      <th>Radial Velocity Amplitude [m/s]</th>\n",
              "      <th>Stellar Effective Temperature [K]</th>\n",
              "      <th>Stellar Radius [Solar Radius]</th>\n",
              "      <th>Stellar Mass [Solar mass]</th>\n",
              "    </tr>\n",
              "  </thead>\n",
              "  <tbody>\n",
              "    <tr>\n",
              "      <th>0</th>\n",
              "      <td>11 Com b</td>\n",
              "      <td>11 Com</td>\n",
              "      <td>2</td>\n",
              "      <td>1</td>\n",
              "      <td>0</td>\n",
              "      <td>0</td>\n",
              "      <td>Radial Velocity</td>\n",
              "      <td>2007</td>\n",
              "      <td>2008-01</td>\n",
              "      <td>Xinglong Station</td>\n",
              "      <td>2.16 m Telescope</td>\n",
              "      <td>12.2</td>\n",
              "      <td>4914.89849</td>\n",
              "      <td>14.9</td>\n",
              "      <td>Not found Yet!!</td>\n",
              "      <td>1.178</td>\n",
              "      <td>288.63</td>\n",
              "      <td>4874.0</td>\n",
              "      <td>13.76</td>\n",
              "      <td>2.09</td>\n",
              "    </tr>\n",
              "    <tr>\n",
              "      <th>1</th>\n",
              "      <td>11 UMi b</td>\n",
              "      <td>11 UMi</td>\n",
              "      <td>1</td>\n",
              "      <td>1</td>\n",
              "      <td>0</td>\n",
              "      <td>0</td>\n",
              "      <td>Radial Velocity</td>\n",
              "      <td>2009</td>\n",
              "      <td>2009-10</td>\n",
              "      <td>Thueringer Landessternwarte Tautenburg</td>\n",
              "      <td>2.0 m Alfred Jensch Telescope</td>\n",
              "      <td>12.3</td>\n",
              "      <td>4684.8142</td>\n",
              "      <td>13.8</td>\n",
              "      <td>Not found Yet!!</td>\n",
              "      <td>1.53</td>\n",
              "      <td>189.7</td>\n",
              "      <td>4213.0</td>\n",
              "      <td>29.79</td>\n",
              "      <td>2.78</td>\n",
              "    </tr>\n",
              "    <tr>\n",
              "      <th>2</th>\n",
              "      <td>14 And b</td>\n",
              "      <td>14 And</td>\n",
              "      <td>1</td>\n",
              "      <td>1</td>\n",
              "      <td>0</td>\n",
              "      <td>0</td>\n",
              "      <td>Radial Velocity</td>\n",
              "      <td>2008</td>\n",
              "      <td>2008-12</td>\n",
              "      <td>Okayama Astrophysical Observatory</td>\n",
              "      <td>1.88 m Telescope</td>\n",
              "      <td>13.1</td>\n",
              "      <td>1131.1513</td>\n",
              "      <td>2.76</td>\n",
              "      <td>Not found Yet!!</td>\n",
              "      <td>0.775</td>\n",
              "      <td>86.08</td>\n",
              "      <td>4888.0</td>\n",
              "      <td>11.55</td>\n",
              "      <td>1.78</td>\n",
              "    </tr>\n",
              "    <tr>\n",
              "      <th>3</th>\n",
              "      <td>14 Her b</td>\n",
              "      <td>14 Her</td>\n",
              "      <td>1</td>\n",
              "      <td>2</td>\n",
              "      <td>0</td>\n",
              "      <td>0</td>\n",
              "      <td>Radial Velocity</td>\n",
              "      <td>2002</td>\n",
              "      <td>2003-01</td>\n",
              "      <td>W. M. Keck Observatory</td>\n",
              "      <td>10 m Keck I Telescope</td>\n",
              "      <td>12.6</td>\n",
              "      <td>2559.47216</td>\n",
              "      <td>7.03</td>\n",
              "      <td>Not found Yet!!</td>\n",
              "      <td>2.774</td>\n",
              "      <td>89.582</td>\n",
              "      <td>5338.0</td>\n",
              "      <td>0.93</td>\n",
              "      <td>0.91</td>\n",
              "    </tr>\n",
              "    <tr>\n",
              "      <th>4</th>\n",
              "      <td>16 Cyg B b</td>\n",
              "      <td>16 Cyg B</td>\n",
              "      <td>3</td>\n",
              "      <td>1</td>\n",
              "      <td>0</td>\n",
              "      <td>0</td>\n",
              "      <td>Radial Velocity</td>\n",
              "      <td>1996</td>\n",
              "      <td>1997-07</td>\n",
              "      <td>Multiple Observatories</td>\n",
              "      <td>Multiple Telescopes</td>\n",
              "      <td>13.5</td>\n",
              "      <td>565.7374</td>\n",
              "      <td>1.26</td>\n",
              "      <td>Not found Yet!!</td>\n",
              "      <td>1.66</td>\n",
              "      <td>50.5</td>\n",
              "      <td>5750.0</td>\n",
              "      <td>1.13</td>\n",
              "      <td>1.08</td>\n",
              "    </tr>\n",
              "  </tbody>\n",
              "</table>\n",
              "</div>"
            ],
            "text/plain": [
              "  Planet Name Host Name  Number of Stars  Number of Planets  Number of Moons  \\\n",
              "0    11 Com b    11 Com                2                  1                0   \n",
              "1    11 UMi b    11 UMi                1                  1                0   \n",
              "2    14 And b    14 And                1                  1                0   \n",
              "3    14 Her b    14 Her                1                  2                0   \n",
              "4  16 Cyg B b  16 Cyg B                3                  1                0   \n",
              "\n",
              "   Circumbinary Flag Discovery Method  Discovery Year  \\\n",
              "0                  0  Radial Velocity            2007   \n",
              "1                  0  Radial Velocity            2009   \n",
              "2                  0  Radial Velocity            2008   \n",
              "3                  0  Radial Velocity            2002   \n",
              "4                  0  Radial Velocity            1996   \n",
              "\n",
              "  Discovery Publication Date                       Discovery Facilty  \\\n",
              "0                    2008-01                        Xinglong Station   \n",
              "1                    2009-10  Thueringer Landessternwarte Tautenburg   \n",
              "2                    2008-12       Okayama Astrophysical Observatory   \n",
              "3                    2003-01                  W. M. Keck Observatory   \n",
              "4                    1997-07                  Multiple Observatories   \n",
              "\n",
              "             Discovery Telescope Planet Radius [Earth Radius]  \\\n",
              "0               2.16 m Telescope                         12.2   \n",
              "1  2.0 m Alfred Jensch Telescope                         12.3   \n",
              "2               1.88 m Telescope                         13.1   \n",
              "3          10 m Keck I Telescope                         12.6   \n",
              "4            Multiple Telescopes                         13.5   \n",
              "\n",
              "  Planet Mass [Earth Mass] Planet Density [g/cm**3]  \\\n",
              "0               4914.89849                     14.9   \n",
              "1                4684.8142                     13.8   \n",
              "2                1131.1513                     2.76   \n",
              "3               2559.47216                     7.03   \n",
              "4                 565.7374                     1.26   \n",
              "\n",
              "  Equilibrium Temperature [K] Orbit Semi-Major Axis [au]  \\\n",
              "0             Not found Yet!!                      1.178   \n",
              "1             Not found Yet!!                       1.53   \n",
              "2             Not found Yet!!                      0.775   \n",
              "3             Not found Yet!!                      2.774   \n",
              "4             Not found Yet!!                       1.66   \n",
              "\n",
              "  Radial Velocity Amplitude [m/s] Stellar Effective Temperature [K]  \\\n",
              "0                          288.63                            4874.0   \n",
              "1                           189.7                            4213.0   \n",
              "2                           86.08                            4888.0   \n",
              "3                          89.582                            5338.0   \n",
              "4                            50.5                            5750.0   \n",
              "\n",
              "  Stellar Radius [Solar Radius] Stellar Mass [Solar mass]  \n",
              "0                         13.76                      2.09  \n",
              "1                         29.79                      2.78  \n",
              "2                         11.55                      1.78  \n",
              "3                          0.93                      0.91  \n",
              "4                          1.13                      1.08  "
            ]
          },
          "execution_count": 12,
          "metadata": {},
          "output_type": "execute_result"
        }
      ],
      "source": [
        "df_final.head()"
      ]
    },
    {
      "cell_type": "markdown",
      "metadata": {},
      "source": [
        "## Modifying the Circumbinary Flag column name"
      ]
    },
    {
      "cell_type": "code",
      "execution_count": 13,
      "metadata": {
        "colab": {
          "base_uri": "https://localhost:8080/"
        },
        "id": "jeYt3HOYSoAF",
        "outputId": "9b92451c-f35c-4a4f-d924-8a7d531a8846"
      },
      "outputs": [
        {
          "data": {
            "text/plain": [
              "array([0, 1], dtype=int64)"
            ]
          },
          "execution_count": 13,
          "metadata": {},
          "output_type": "execute_result"
        }
      ],
      "source": [
        "df['Circumbinary Flag'].unique() #  Whether the planet orbits a binary system"
      ]
    },
    {
      "cell_type": "code",
      "execution_count": 14,
      "metadata": {
        "colab": {
          "base_uri": "https://localhost:8080/"
        },
        "id": "d1BdfLwuWR-B",
        "outputId": "0994e660-4b21-44e0-da40-6cfc194b3f5c"
      },
      "outputs": [
        {
          "name": "stderr",
          "output_type": "stream",
          "text": [
            "C:\\Users\\arany\\AppData\\Local\\Temp\\ipykernel_16348\\3598662132.py:1: SettingWithCopyWarning: \n",
            "A value is trying to be set on a copy of a slice from a DataFrame\n",
            "\n",
            "See the caveats in the documentation: https://pandas.pydata.org/pandas-docs/stable/user_guide/indexing.html#returning-a-view-versus-a-copy\n",
            "  df_final.rename(columns={'Circumbinary Flag' : 'Binary System'},inplace=True)\n"
          ]
        }
      ],
      "source": [
        "df_final.rename(columns={'Circumbinary Flag' : 'Binary System'},inplace=True)"
      ]
    },
    {
      "cell_type": "code",
      "execution_count": 15,
      "metadata": {
        "colab": {
          "base_uri": "https://localhost:8080/"
        },
        "id": "0n8nOJ6JYOvU",
        "outputId": "77c54cf0-51fa-489e-80ae-448459bd9d15"
      },
      "outputs": [
        {
          "name": "stderr",
          "output_type": "stream",
          "text": [
            "C:\\Users\\arany\\AppData\\Local\\Temp\\ipykernel_16348\\3347119243.py:1: SettingWithCopyWarning: \n",
            "A value is trying to be set on a copy of a slice from a DataFrame.\n",
            "Try using .loc[row_indexer,col_indexer] = value instead\n",
            "\n",
            "See the caveats in the documentation: https://pandas.pydata.org/pandas-docs/stable/user_guide/indexing.html#returning-a-view-versus-a-copy\n",
            "  df_final['Binary System'] = df_final['Binary System'].map({0 : 'Binary System', 1 : 'Not Binary System'})\n"
          ]
        }
      ],
      "source": [
        "df_final['Binary System'] = df_final['Binary System'].map({0 : 'Binary System', 1 : 'Not Binary System'})"
      ]
    },
    {
      "cell_type": "markdown",
      "metadata": {},
      "source": [
        "## Context Generation"
      ]
    },
    {
      "cell_type": "code",
      "execution_count": 16,
      "metadata": {
        "id": "WrW_aOOeW6LZ"
      },
      "outputs": [],
      "source": [
        "# Function to create a structured context column using the column data\n",
        "def create_context(row):\n",
        "    context = (\n",
        "        f\"The exoplanet {row['Planet Name']} orbits the host star {row['Host Name']}. \"\n",
        "        f\"The system containing the exoplanet {row['Planet Name']} also contains {row['Number of Stars']} stars, {row['Number of Planets']} planets, and {row['Number of Moons']} moons. \"\n",
        "        f\"The exoplanet lies in a {row['Binary System']}. \"\n",
        "        f\"The planet was discovered using the {row['Discovery Method']} method in {row['Discovery Year']}. \"\n",
        "        f\"The discovery was published on {row['Discovery Publication Date']} and facilitated by {row['Discovery Facilty']} using the {row['Discovery Telescope']}. \"\n",
        "        f\"The planet has a radius of {row['Planet Radius [Earth Radius]']} Earth radii, a mass of {row['Planet Mass [Earth Mass]']} Earth masses, \"\n",
        "        f\"and a density of {row['Planet Density [g/cm**3]']} g/cm³. \"\n",
        "        f\"The equilibrium temperature is {row['Equilibrium Temperature [K]']} K. \"\n",
        "        f\"The semi-major axis of its orbit is {row['Orbit Semi-Major Axis [au]']} AU. \"\n",
        "        f\"The radial velocity amplitude is {row['Radial Velocity Amplitude [m/s]']} m/s. \"\n",
        "        f\"The host star has an effective temperature of {row['Stellar Effective Temperature [K]']} K, \"\n",
        "        f\"a radius of {row['Stellar Radius [Solar Radius]']} solar radii, and a mass of {row['Stellar Mass [Solar mass]']} solar masses.\"\n",
        "    )\n",
        "    return context"
      ]
    },
    {
      "cell_type": "code",
      "execution_count": 17,
      "metadata": {
        "colab": {
          "base_uri": "https://localhost:8080/"
        },
        "id": "r2qHsatcXhgU",
        "outputId": "b6bcfea9-fdb8-42b1-a3e7-2ceef6801bbc"
      },
      "outputs": [
        {
          "name": "stderr",
          "output_type": "stream",
          "text": [
            "C:\\Users\\arany\\AppData\\Local\\Temp\\ipykernel_16348\\4096153124.py:1: SettingWithCopyWarning: \n",
            "A value is trying to be set on a copy of a slice from a DataFrame.\n",
            "Try using .loc[row_indexer,col_indexer] = value instead\n",
            "\n",
            "See the caveats in the documentation: https://pandas.pydata.org/pandas-docs/stable/user_guide/indexing.html#returning-a-view-versus-a-copy\n",
            "  df_final['Context'] = df_final.apply(create_context, axis=1)\n"
          ]
        }
      ],
      "source": [
        "df_final['Context'] = df_final.apply(create_context, axis=1)"
      ]
    },
    {
      "cell_type": "code",
      "execution_count": 18,
      "metadata": {
        "colab": {
          "base_uri": "https://localhost:8080/"
        },
        "id": "rL8ORCD0Y1W0",
        "outputId": "10e4f602-1873-4ffe-d19c-29de156f6727"
      },
      "outputs": [
        {
          "data": {
            "text/plain": [
              "0    The exoplanet 11 Com b orbits the host star 11...\n",
              "1    The exoplanet 11 UMi b orbits the host star 11...\n",
              "2    The exoplanet 14 And b orbits the host star 14...\n",
              "3    The exoplanet 14 Her b orbits the host star 14...\n",
              "4    The exoplanet 16 Cyg B b orbits the host star ...\n",
              "5    The exoplanet 17 Sco b orbits the host star 17...\n",
              "6    The exoplanet 18 Del b orbits the host star 18...\n",
              "7    The exoplanet 1RXS J160929.1-210524 b orbits t...\n",
              "8    The exoplanet 24 Boo b orbits the host star 24...\n",
              "9    The exoplanet 24 Sex b orbits the host star 24...\n",
              "Name: Context, dtype: object"
            ]
          },
          "execution_count": 18,
          "metadata": {},
          "output_type": "execute_result"
        }
      ],
      "source": [
        "df_final['Context'].head(10)"
      ]
    },
    {
      "cell_type": "code",
      "execution_count": 19,
      "metadata": {
        "colab": {
          "base_uri": "https://localhost:8080/"
        },
        "id": "fd-RVtKbY5mn",
        "outputId": "61cd49ab-24cd-48ea-ee4e-969a7234c0cb"
      },
      "outputs": [
        {
          "data": {
            "text/plain": [
              "(5638, 21)"
            ]
          },
          "execution_count": 19,
          "metadata": {},
          "output_type": "execute_result"
        }
      ],
      "source": [
        "df_final.shape"
      ]
    },
    {
      "cell_type": "code",
      "execution_count": 20,
      "metadata": {
        "colab": {
          "base_uri": "https://localhost:8080/"
        },
        "id": "E96BxsdFquoH",
        "outputId": "81c713cb-9108-4724-eac1-96aa6e568cf0"
      },
      "outputs": [
        {
          "data": {
            "text/plain": [
              "21"
            ]
          },
          "execution_count": 20,
          "metadata": {},
          "output_type": "execute_result"
        }
      ],
      "source": [
        "len(df_final.columns)"
      ]
    },
    {
      "cell_type": "code",
      "execution_count": 21,
      "metadata": {},
      "outputs": [],
      "source": [
        "## Instruction , Input and Output Q-A pair generated from the data"
      ]
    },
    {
      "cell_type": "code",
      "execution_count": 22,
      "metadata": {
        "id": "MME618gBZMd0"
      },
      "outputs": [],
      "source": [
        "# Generate instruction, context, and response pairs\n",
        "instruction_context_response_pairs = []\n",
        "for index, row in df_final.iterrows():\n",
        "    planet_name = row['Planet Name']\n",
        "    context = row['Context']\n",
        "    features = {\n",
        "        'Number of Stars': row['Number of Stars'],\n",
        "        'Number of Planets': row['Number of Planets'],\n",
        "        'Number of Moons': row['Number of Moons'],\n",
        "        'Binary System': row['Binary System'],\n",
        "        'Discovery Method': row['Discovery Method'],\n",
        "        'Discovery Year': row['Discovery Year'],\n",
        "        'Discovery Publication Date': row['Discovery Publication Date'],\n",
        "        'Discovery Facility': row['Discovery Facilty'],\n",
        "        'Discovery Telescope': row['Discovery Telescope'],\n",
        "        'Planet Radius': row['Planet Radius [Earth Radius]'],\n",
        "        'Planet Mass': row['Planet Mass [Earth Mass]'],\n",
        "        'Planet Density': row['Planet Density [g/cm**3]'],\n",
        "        'Equilibrium Temperature': row['Equilibrium Temperature [K]'],\n",
        "        'Orbit Semi-Major Axis': row['Orbit Semi-Major Axis [au]'],\n",
        "        'Radial Velocity Amplitude': row['Radial Velocity Amplitude [m/s]'],\n",
        "        'Stellar Effective Temperature': row['Stellar Effective Temperature [K]'],\n",
        "        'Stellar Radius': row['Stellar Radius [Solar Radius]'],\n",
        "        'Stellar Mass': row['Stellar Mass [Solar mass]']\n",
        "    }\n",
        "\n",
        "    for feature, value in features.items():\n",
        "        instruction = f\"What is the {feature.lower().replace('_', ' ')} of {planet_name}?\"\n",
        "        response = f\"The {feature.lower().replace('_', ' ')} of {planet_name} is {value}.\"\n",
        "        instruction_context_response_pairs.append({\n",
        "            \"instruction\": instruction,\n",
        "            \"input\": context,\n",
        "            \"output\": response\n",
        "        })"
      ]
    },
    {
      "cell_type": "code",
      "execution_count": 23,
      "metadata": {
        "id": "ksVcUk0DrD4p"
      },
      "outputs": [],
      "source": [
        "instruction_dataset = pd.DataFrame(instruction_context_response_pairs)"
      ]
    },
    {
      "cell_type": "code",
      "execution_count": 24,
      "metadata": {
        "colab": {
          "base_uri": "https://localhost:8080/",
          "height": 677
        },
        "id": "NyvmEBJSrfE6",
        "outputId": "021504ea-fd5c-45cc-f371-63e84b77a4ea"
      },
      "outputs": [
        {
          "data": {
            "text/html": [
              "<div>\n",
              "<style scoped>\n",
              "    .dataframe tbody tr th:only-of-type {\n",
              "        vertical-align: middle;\n",
              "    }\n",
              "\n",
              "    .dataframe tbody tr th {\n",
              "        vertical-align: top;\n",
              "    }\n",
              "\n",
              "    .dataframe thead th {\n",
              "        text-align: right;\n",
              "    }\n",
              "</style>\n",
              "<table border=\"1\" class=\"dataframe\">\n",
              "  <thead>\n",
              "    <tr style=\"text-align: right;\">\n",
              "      <th></th>\n",
              "      <th>instruction</th>\n",
              "      <th>input</th>\n",
              "      <th>output</th>\n",
              "    </tr>\n",
              "  </thead>\n",
              "  <tbody>\n",
              "    <tr>\n",
              "      <th>0</th>\n",
              "      <td>What is the number of stars of 11 Com b?</td>\n",
              "      <td>The exoplanet 11 Com b orbits the host star 11...</td>\n",
              "      <td>The number of stars of 11 Com b is 2.</td>\n",
              "    </tr>\n",
              "    <tr>\n",
              "      <th>1</th>\n",
              "      <td>What is the number of planets of 11 Com b?</td>\n",
              "      <td>The exoplanet 11 Com b orbits the host star 11...</td>\n",
              "      <td>The number of planets of 11 Com b is 1.</td>\n",
              "    </tr>\n",
              "    <tr>\n",
              "      <th>2</th>\n",
              "      <td>What is the number of moons of 11 Com b?</td>\n",
              "      <td>The exoplanet 11 Com b orbits the host star 11...</td>\n",
              "      <td>The number of moons of 11 Com b is 0.</td>\n",
              "    </tr>\n",
              "    <tr>\n",
              "      <th>3</th>\n",
              "      <td>What is the binary system of 11 Com b?</td>\n",
              "      <td>The exoplanet 11 Com b orbits the host star 11...</td>\n",
              "      <td>The binary system of 11 Com b is Binary System.</td>\n",
              "    </tr>\n",
              "    <tr>\n",
              "      <th>4</th>\n",
              "      <td>What is the discovery method of 11 Com b?</td>\n",
              "      <td>The exoplanet 11 Com b orbits the host star 11...</td>\n",
              "      <td>The discovery method of 11 Com b is Radial Vel...</td>\n",
              "    </tr>\n",
              "    <tr>\n",
              "      <th>5</th>\n",
              "      <td>What is the discovery year of 11 Com b?</td>\n",
              "      <td>The exoplanet 11 Com b orbits the host star 11...</td>\n",
              "      <td>The discovery year of 11 Com b is 2007.</td>\n",
              "    </tr>\n",
              "    <tr>\n",
              "      <th>6</th>\n",
              "      <td>What is the discovery publication date of 11 C...</td>\n",
              "      <td>The exoplanet 11 Com b orbits the host star 11...</td>\n",
              "      <td>The discovery publication date of 11 Com b is ...</td>\n",
              "    </tr>\n",
              "    <tr>\n",
              "      <th>7</th>\n",
              "      <td>What is the discovery facility of 11 Com b?</td>\n",
              "      <td>The exoplanet 11 Com b orbits the host star 11...</td>\n",
              "      <td>The discovery facility of 11 Com b is Xinglong...</td>\n",
              "    </tr>\n",
              "    <tr>\n",
              "      <th>8</th>\n",
              "      <td>What is the discovery telescope of 11 Com b?</td>\n",
              "      <td>The exoplanet 11 Com b orbits the host star 11...</td>\n",
              "      <td>The discovery telescope of 11 Com b is 2.16 m ...</td>\n",
              "    </tr>\n",
              "    <tr>\n",
              "      <th>9</th>\n",
              "      <td>What is the planet radius of 11 Com b?</td>\n",
              "      <td>The exoplanet 11 Com b orbits the host star 11...</td>\n",
              "      <td>The planet radius of 11 Com b is 12.2.</td>\n",
              "    </tr>\n",
              "    <tr>\n",
              "      <th>10</th>\n",
              "      <td>What is the planet mass of 11 Com b?</td>\n",
              "      <td>The exoplanet 11 Com b orbits the host star 11...</td>\n",
              "      <td>The planet mass of 11 Com b is 4914.89849.</td>\n",
              "    </tr>\n",
              "    <tr>\n",
              "      <th>11</th>\n",
              "      <td>What is the planet density of 11 Com b?</td>\n",
              "      <td>The exoplanet 11 Com b orbits the host star 11...</td>\n",
              "      <td>The planet density of 11 Com b is 14.9.</td>\n",
              "    </tr>\n",
              "    <tr>\n",
              "      <th>12</th>\n",
              "      <td>What is the equilibrium temperature of 11 Com b?</td>\n",
              "      <td>The exoplanet 11 Com b orbits the host star 11...</td>\n",
              "      <td>The equilibrium temperature of 11 Com b is Not...</td>\n",
              "    </tr>\n",
              "    <tr>\n",
              "      <th>13</th>\n",
              "      <td>What is the orbit semi-major axis of 11 Com b?</td>\n",
              "      <td>The exoplanet 11 Com b orbits the host star 11...</td>\n",
              "      <td>The orbit semi-major axis of 11 Com b is 1.178.</td>\n",
              "    </tr>\n",
              "    <tr>\n",
              "      <th>14</th>\n",
              "      <td>What is the radial velocity amplitude of 11 Co...</td>\n",
              "      <td>The exoplanet 11 Com b orbits the host star 11...</td>\n",
              "      <td>The radial velocity amplitude of 11 Com b is 2...</td>\n",
              "    </tr>\n",
              "    <tr>\n",
              "      <th>15</th>\n",
              "      <td>What is the stellar effective temperature of 1...</td>\n",
              "      <td>The exoplanet 11 Com b orbits the host star 11...</td>\n",
              "      <td>The stellar effective temperature of 11 Com b ...</td>\n",
              "    </tr>\n",
              "    <tr>\n",
              "      <th>16</th>\n",
              "      <td>What is the stellar radius of 11 Com b?</td>\n",
              "      <td>The exoplanet 11 Com b orbits the host star 11...</td>\n",
              "      <td>The stellar radius of 11 Com b is 13.76.</td>\n",
              "    </tr>\n",
              "    <tr>\n",
              "      <th>17</th>\n",
              "      <td>What is the stellar mass of 11 Com b?</td>\n",
              "      <td>The exoplanet 11 Com b orbits the host star 11...</td>\n",
              "      <td>The stellar mass of 11 Com b is 2.09.</td>\n",
              "    </tr>\n",
              "    <tr>\n",
              "      <th>18</th>\n",
              "      <td>What is the number of stars of 11 UMi b?</td>\n",
              "      <td>The exoplanet 11 UMi b orbits the host star 11...</td>\n",
              "      <td>The number of stars of 11 UMi b is 1.</td>\n",
              "    </tr>\n",
              "    <tr>\n",
              "      <th>19</th>\n",
              "      <td>What is the number of planets of 11 UMi b?</td>\n",
              "      <td>The exoplanet 11 UMi b orbits the host star 11...</td>\n",
              "      <td>The number of planets of 11 UMi b is 1.</td>\n",
              "    </tr>\n",
              "  </tbody>\n",
              "</table>\n",
              "</div>"
            ],
            "text/plain": [
              "                                          instruction  \\\n",
              "0            What is the number of stars of 11 Com b?   \n",
              "1          What is the number of planets of 11 Com b?   \n",
              "2            What is the number of moons of 11 Com b?   \n",
              "3              What is the binary system of 11 Com b?   \n",
              "4           What is the discovery method of 11 Com b?   \n",
              "5             What is the discovery year of 11 Com b?   \n",
              "6   What is the discovery publication date of 11 C...   \n",
              "7         What is the discovery facility of 11 Com b?   \n",
              "8        What is the discovery telescope of 11 Com b?   \n",
              "9              What is the planet radius of 11 Com b?   \n",
              "10               What is the planet mass of 11 Com b?   \n",
              "11            What is the planet density of 11 Com b?   \n",
              "12   What is the equilibrium temperature of 11 Com b?   \n",
              "13     What is the orbit semi-major axis of 11 Com b?   \n",
              "14  What is the radial velocity amplitude of 11 Co...   \n",
              "15  What is the stellar effective temperature of 1...   \n",
              "16            What is the stellar radius of 11 Com b?   \n",
              "17              What is the stellar mass of 11 Com b?   \n",
              "18           What is the number of stars of 11 UMi b?   \n",
              "19         What is the number of planets of 11 UMi b?   \n",
              "\n",
              "                                                input  \\\n",
              "0   The exoplanet 11 Com b orbits the host star 11...   \n",
              "1   The exoplanet 11 Com b orbits the host star 11...   \n",
              "2   The exoplanet 11 Com b orbits the host star 11...   \n",
              "3   The exoplanet 11 Com b orbits the host star 11...   \n",
              "4   The exoplanet 11 Com b orbits the host star 11...   \n",
              "5   The exoplanet 11 Com b orbits the host star 11...   \n",
              "6   The exoplanet 11 Com b orbits the host star 11...   \n",
              "7   The exoplanet 11 Com b orbits the host star 11...   \n",
              "8   The exoplanet 11 Com b orbits the host star 11...   \n",
              "9   The exoplanet 11 Com b orbits the host star 11...   \n",
              "10  The exoplanet 11 Com b orbits the host star 11...   \n",
              "11  The exoplanet 11 Com b orbits the host star 11...   \n",
              "12  The exoplanet 11 Com b orbits the host star 11...   \n",
              "13  The exoplanet 11 Com b orbits the host star 11...   \n",
              "14  The exoplanet 11 Com b orbits the host star 11...   \n",
              "15  The exoplanet 11 Com b orbits the host star 11...   \n",
              "16  The exoplanet 11 Com b orbits the host star 11...   \n",
              "17  The exoplanet 11 Com b orbits the host star 11...   \n",
              "18  The exoplanet 11 UMi b orbits the host star 11...   \n",
              "19  The exoplanet 11 UMi b orbits the host star 11...   \n",
              "\n",
              "                                               output  \n",
              "0               The number of stars of 11 Com b is 2.  \n",
              "1             The number of planets of 11 Com b is 1.  \n",
              "2               The number of moons of 11 Com b is 0.  \n",
              "3     The binary system of 11 Com b is Binary System.  \n",
              "4   The discovery method of 11 Com b is Radial Vel...  \n",
              "5             The discovery year of 11 Com b is 2007.  \n",
              "6   The discovery publication date of 11 Com b is ...  \n",
              "7   The discovery facility of 11 Com b is Xinglong...  \n",
              "8   The discovery telescope of 11 Com b is 2.16 m ...  \n",
              "9              The planet radius of 11 Com b is 12.2.  \n",
              "10         The planet mass of 11 Com b is 4914.89849.  \n",
              "11            The planet density of 11 Com b is 14.9.  \n",
              "12  The equilibrium temperature of 11 Com b is Not...  \n",
              "13    The orbit semi-major axis of 11 Com b is 1.178.  \n",
              "14  The radial velocity amplitude of 11 Com b is 2...  \n",
              "15  The stellar effective temperature of 11 Com b ...  \n",
              "16           The stellar radius of 11 Com b is 13.76.  \n",
              "17              The stellar mass of 11 Com b is 2.09.  \n",
              "18              The number of stars of 11 UMi b is 1.  \n",
              "19            The number of planets of 11 UMi b is 1.  "
            ]
          },
          "execution_count": 24,
          "metadata": {},
          "output_type": "execute_result"
        }
      ],
      "source": [
        "instruction_dataset.head(20)"
      ]
    },
    {
      "cell_type": "markdown",
      "metadata": {},
      "source": [
        "## Saving the Instruction Dataset"
      ]
    },
    {
      "cell_type": "code",
      "execution_count": 25,
      "metadata": {
        "id": "Lc-SCbUxrha4"
      },
      "outputs": [],
      "source": [
        "instruction_dataset.to_csv('artifacts\\\\Instruction Q-A pair Exoplanet Data.csv',index=False)"
      ]
    }
  ],
  "metadata": {
    "accelerator": "GPU",
    "colab": {
      "gpuType": "T4",
      "provenance": []
    },
    "kernelspec": {
      "display_name": "Python 3",
      "name": "python3"
    },
    "language_info": {
      "codemirror_mode": {
        "name": "ipython",
        "version": 3
      },
      "file_extension": ".py",
      "mimetype": "text/x-python",
      "name": "python",
      "nbconvert_exporter": "python",
      "pygments_lexer": "ipython3",
      "version": "3.10.14"
    }
  },
  "nbformat": 4,
  "nbformat_minor": 0
}
